{
 "cells": [
  {
   "cell_type": "markdown",
   "metadata": {
    "id": "M7E7YUJCwBHn"
   },
   "source": [
    "# Resnet Mini Project"
   ]
  },
  {
   "cell_type": "markdown",
   "metadata": {
    "id": "-mhb9oNEwJ1e"
   },
   "source": [
    "## Package Loading"
   ]
  },
  {
   "cell_type": "code",
   "execution_count": 1,
   "metadata": {
    "colab": {
     "base_uri": "https://localhost:8080/"
    },
    "id": "GF8PR5XESiVU",
    "outputId": "00710959-48e4-48cf-9905-89fae89ff92d"
   },
   "outputs": [
    {
     "name": "stdout",
     "output_type": "stream",
     "text": [
      "Requirement already satisfied: torch in ./.conda/envs/default/lib/python3.9/site-packages (1.13.0)\n",
      "Requirement already satisfied: nvidia-cudnn-cu11==8.5.0.96 in ./.conda/envs/default/lib/python3.9/site-packages (from torch) (8.5.0.96)\n",
      "Requirement already satisfied: nvidia-cuda-nvrtc-cu11==11.7.99 in ./.conda/envs/default/lib/python3.9/site-packages (from torch) (11.7.99)\n",
      "Requirement already satisfied: typing-extensions in ./.conda/envs/default/lib/python3.9/site-packages (from torch) (4.4.0)\n",
      "Requirement already satisfied: nvidia-cublas-cu11==11.10.3.66 in ./.conda/envs/default/lib/python3.9/site-packages (from torch) (11.10.3.66)\n",
      "Requirement already satisfied: nvidia-cuda-runtime-cu11==11.7.99 in ./.conda/envs/default/lib/python3.9/site-packages (from torch) (11.7.99)\n",
      "Requirement already satisfied: setuptools in ./.conda/envs/default/lib/python3.9/site-packages (from nvidia-cublas-cu11==11.10.3.66->torch) (65.5.1)\n",
      "Requirement already satisfied: wheel in ./.conda/envs/default/lib/python3.9/site-packages (from nvidia-cublas-cu11==11.10.3.66->torch) (0.38.4)\n"
     ]
    }
   ],
   "source": [
    "!pip install torch"
   ]
  },
  {
   "cell_type": "code",
   "execution_count": 2,
   "metadata": {
    "colab": {
     "base_uri": "https://localhost:8080/"
    },
    "id": "U1SCe9lJSiVV",
    "outputId": "6de09f9e-1c49-4382-c93d-37e7a0705572"
   },
   "outputs": [
    {
     "name": "stdout",
     "output_type": "stream",
     "text": [
      "Requirement already satisfied: torchvision in ./.conda/envs/default/lib/python3.9/site-packages (0.14.0)\n",
      "Requirement already satisfied: requests in ./.conda/envs/default/lib/python3.9/site-packages (from torchvision) (2.28.1)\n",
      "Requirement already satisfied: typing-extensions in ./.conda/envs/default/lib/python3.9/site-packages (from torchvision) (4.4.0)\n",
      "Requirement already satisfied: torch==1.13.0 in ./.conda/envs/default/lib/python3.9/site-packages (from torchvision) (1.13.0)\n",
      "Requirement already satisfied: numpy in ./.conda/envs/default/lib/python3.9/site-packages (from torchvision) (1.23.5)\n",
      "Requirement already satisfied: pillow!=8.3.*,>=5.3.0 in ./.conda/envs/default/lib/python3.9/site-packages (from torchvision) (9.3.0)\n",
      "Requirement already satisfied: nvidia-cuda-runtime-cu11==11.7.99 in ./.conda/envs/default/lib/python3.9/site-packages (from torch==1.13.0->torchvision) (11.7.99)\n",
      "Requirement already satisfied: nvidia-cuda-nvrtc-cu11==11.7.99 in ./.conda/envs/default/lib/python3.9/site-packages (from torch==1.13.0->torchvision) (11.7.99)\n",
      "Requirement already satisfied: nvidia-cublas-cu11==11.10.3.66 in ./.conda/envs/default/lib/python3.9/site-packages (from torch==1.13.0->torchvision) (11.10.3.66)\n",
      "Requirement already satisfied: nvidia-cudnn-cu11==8.5.0.96 in ./.conda/envs/default/lib/python3.9/site-packages (from torch==1.13.0->torchvision) (8.5.0.96)\n",
      "Requirement already satisfied: wheel in ./.conda/envs/default/lib/python3.9/site-packages (from nvidia-cublas-cu11==11.10.3.66->torch==1.13.0->torchvision) (0.38.4)\n",
      "Requirement already satisfied: setuptools in ./.conda/envs/default/lib/python3.9/site-packages (from nvidia-cublas-cu11==11.10.3.66->torch==1.13.0->torchvision) (65.5.1)\n",
      "Requirement already satisfied: urllib3<1.27,>=1.21.1 in ./.conda/envs/default/lib/python3.9/site-packages (from requests->torchvision) (1.26.12)\n",
      "Requirement already satisfied: charset-normalizer<3,>=2 in ./.conda/envs/default/lib/python3.9/site-packages (from requests->torchvision) (2.1.1)\n",
      "Requirement already satisfied: idna<4,>=2.5 in ./.conda/envs/default/lib/python3.9/site-packages (from requests->torchvision) (3.4)\n",
      "Requirement already satisfied: certifi>=2017.4.17 in ./.conda/envs/default/lib/python3.9/site-packages (from requests->torchvision) (2022.9.24)\n"
     ]
    }
   ],
   "source": [
    "!pip install torchvision"
   ]
  },
  {
   "cell_type": "code",
   "execution_count": 3,
   "metadata": {
    "colab": {
     "base_uri": "https://localhost:8080/"
    },
    "id": "vI8M7mK9SiVV",
    "outputId": "101cf28a-f747-461b-f222-734e008893b7"
   },
   "outputs": [
    {
     "name": "stdout",
     "output_type": "stream",
     "text": [
      "Requirement already satisfied: matplotlib in ./.conda/envs/default/lib/python3.9/site-packages (3.6.2)\n",
      "Requirement already satisfied: kiwisolver>=1.0.1 in ./.conda/envs/default/lib/python3.9/site-packages (from matplotlib) (1.4.4)\n",
      "Requirement already satisfied: contourpy>=1.0.1 in ./.conda/envs/default/lib/python3.9/site-packages (from matplotlib) (1.0.6)\n",
      "Requirement already satisfied: fonttools>=4.22.0 in ./.conda/envs/default/lib/python3.9/site-packages (from matplotlib) (4.38.0)\n",
      "Requirement already satisfied: cycler>=0.10 in ./.conda/envs/default/lib/python3.9/site-packages (from matplotlib) (0.11.0)\n",
      "Requirement already satisfied: pyparsing>=2.2.1 in ./.conda/envs/default/lib/python3.9/site-packages (from matplotlib) (3.0.9)\n",
      "Requirement already satisfied: numpy>=1.19 in ./.conda/envs/default/lib/python3.9/site-packages (from matplotlib) (1.23.5)\n",
      "Requirement already satisfied: python-dateutil>=2.7 in ./.conda/envs/default/lib/python3.9/site-packages (from matplotlib) (2.8.2)\n",
      "Requirement already satisfied: pillow>=6.2.0 in ./.conda/envs/default/lib/python3.9/site-packages (from matplotlib) (9.3.0)\n",
      "Requirement already satisfied: packaging>=20.0 in ./.conda/envs/default/lib/python3.9/site-packages (from matplotlib) (21.3)\n",
      "Requirement already satisfied: six>=1.5 in ./.conda/envs/default/lib/python3.9/site-packages (from python-dateutil>=2.7->matplotlib) (1.16.0)\n"
     ]
    }
   ],
   "source": [
    "!pip install matplotlib"
   ]
  },
  {
   "cell_type": "code",
   "execution_count": 4,
   "metadata": {
    "colab": {
     "base_uri": "https://localhost:8080/"
    },
    "id": "eiycBTyqSiVV",
    "outputId": "c4815611-a29a-45b4-a194-b9e78531b7f0"
   },
   "outputs": [
    {
     "name": "stdout",
     "output_type": "stream",
     "text": [
      "Requirement already satisfied: torchsummary in ./.conda/envs/default/lib/python3.9/site-packages (1.5.1)\n",
      "Requirement already satisfied: tqdm in ./.conda/envs/default/lib/python3.9/site-packages (4.64.1)\n"
     ]
    }
   ],
   "source": [
    "!pip install torchsummary\n",
    "!pip install tqdm"
   ]
  },
  {
   "cell_type": "code",
   "execution_count": 5,
   "metadata": {
    "id": "mFk4ueZawW6J"
   },
   "outputs": [],
   "source": [
    "import torch\n",
    "import multiprocessing\n",
    "import torchvision\n",
    "import numpy as np\n",
    "import torch.nn as nn\n",
    "import torch.nn.functional as F\n",
    "import matplotlib.pyplot as plt\n",
    "import torch.utils.data as data\n",
    "import torchvision.datasets as datasets\n",
    "from torch.utils.data import DataLoader\n",
    "from torchsummary import summary\n",
    "from tqdm import tqdm\n",
    "import random\n",
    "import copy"
   ]
  },
  {
   "cell_type": "code",
   "execution_count": 6,
   "metadata": {
    "id": "3As0S2iZM5f9"
   },
   "outputs": [],
   "source": [
    "SEED = 1234\n",
    "\n",
    "random.seed(SEED)\n",
    "np.random.seed(SEED)\n",
    "torch.manual_seed(SEED)\n",
    "torch.cuda.manual_seed(SEED)\n",
    "torch.backends.cudnn.deterministic = True"
   ]
  },
  {
   "cell_type": "markdown",
   "metadata": {
    "id": "tla0bkpz6Qrd"
   },
   "source": [
    "## Model Preparing\n"
   ]
  },
  {
   "cell_type": "code",
   "execution_count": 7,
   "metadata": {
    "colab": {
     "base_uri": "https://localhost:8080/"
    },
    "id": "2rwdaMY2beOQ",
    "outputId": "90dee61f-b49b-480d-e750-a4d56d91d9a4"
   },
   "outputs": [
    {
     "name": "stdout",
     "output_type": "stream",
     "text": [
      "Files already downloaded and verified\n",
      "Files already downloaded and verified\n",
      "Files already downloaded and verified\n",
      "45000\n",
      "5000\n",
      "10000\n"
     ]
    }
   ],
   "source": [
    "# Compute means and standard deviations along the R,G,B channel\n",
    "ROOT = '.data'\n",
    "train_data = datasets.CIFAR10(root = ROOT, train = True, download = True)\n",
    "means = train_data.data.mean(axis = (0,1,2)) / 255\n",
    "stds = train_data.data.std(axis = (0,1,2)) / 255\n",
    "train_transforms = torchvision.transforms.Compose([\n",
    "    torchvision.transforms.RandomRotation(5),\n",
    "    torchvision.transforms.RandomHorizontalFlip(0.5),\n",
    "    torchvision.transforms.RandomCrop(32, padding = 2),\n",
    "    torchvision.transforms.ToTensor(),\n",
    "    torchvision.transforms.Normalize(mean = means, \n",
    "    std = stds)\n",
    "    ])\n",
    "test_transforms = torchvision.transforms.Compose([\n",
    "    torchvision.transforms.ToTensor(),\n",
    "    torchvision.transforms.Normalize(mean = means, \n",
    "    std = stds)\n",
    "    ])\n",
    "train_data = datasets.CIFAR10(ROOT, \n",
    "                              train = True, \n",
    "                              download = True, \n",
    "                              transform = train_transforms)\n",
    "        \n",
    "test_data = datasets.CIFAR10(ROOT, \n",
    "                             train = False, \n",
    "                             download = True, \n",
    "                             transform = test_transforms)\n",
    "        \n",
    "VALID_RATIO = 0.9\n",
    "\n",
    "n_train_examples = int(len(train_data) * VALID_RATIO)\n",
    "n_valid_examples = len(train_data) - n_train_examples\n",
    "train_data, valid_data = data.random_split(train_data, [n_train_examples, n_valid_examples])\n",
    "        \n",
    "valid_data = copy.deepcopy(valid_data)\n",
    "valid_data.dataset.transform = test_transforms\n",
    "\n",
    "print(len(train_data))\n",
    "print(len(valid_data))\n",
    "print(len(test_data))\n",
    "\n",
    "BATCH_SIZE = 64\n",
    "train_iterator = data.DataLoader(train_data, \n",
    "                                 shuffle = True, \n",
    "                                 batch_size = BATCH_SIZE)\n",
    "valid_iterator = data.DataLoader(valid_data, \n",
    "                                 batch_size = BATCH_SIZE)\n",
    "test_iterator = data.DataLoader(test_data, \n",
    "                                batch_size = BATCH_SIZE)"
   ]
  },
  {
   "cell_type": "markdown",
   "metadata": {
    "id": "CahSyYo38q4V"
   },
   "source": [
    "## Resnet Setup"
   ]
  },
  {
   "cell_type": "markdown",
   "metadata": {
    "id": "UrrYntmY9DzV"
   },
   "source": [
    "### Basic Block"
   ]
  },
  {
   "cell_type": "code",
   "execution_count": 8,
   "metadata": {
    "id": "7et5GOMTbko8"
   },
   "outputs": [],
   "source": [
    "class BasicBlock(nn.Module):\n",
    "\n",
    "    def __init__(self, in_planes, planes, kernel, skip_kernel, stride=1, bias=True):\n",
    "        super(BasicBlock, self).__init__()\n",
    "        self.conv1 = nn.Conv2d(\n",
    "            in_planes, planes, kernel_size=kernel[0], stride=stride, padding=kernel[1], bias=bias)\n",
    "        self.bn1 = nn.BatchNorm2d(planes)\n",
    "        self.conv2 = nn.Conv2d(planes, planes, kernel_size=kernel[0],\n",
    "                               stride=1, padding=kernel[1], bias=bias)\n",
    "        self.bn2 = nn.BatchNorm2d(planes)\n",
    "\n",
    "        self.shortcut = nn.Sequential()\n",
    "        if stride != 1 or in_planes != planes:\n",
    "            self.shortcut = nn.Sequential(\n",
    "                nn.Conv2d(in_planes, planes,\n",
    "                          kernel_size=skip_kernel[0], padding=skip_kernel[1], stride=stride, bias=bias),\n",
    "                nn.BatchNorm2d(planes)\n",
    "            )\n",
    "\n",
    "    def forward(self, x):\n",
    "        out = F.relu(self.bn1(self.conv1(x)))\n",
    "        out = self.bn2(self.conv2(out))\n",
    "        out += self.shortcut(x)\n",
    "        out = F.relu(out)\n",
    "        return out\n"
   ]
  },
  {
   "cell_type": "markdown",
   "metadata": {
    "id": "5K5m-s4zAxuS"
   },
   "source": [
    "### ResNet"
   ]
  },
  {
   "cell_type": "code",
   "execution_count": 9,
   "metadata": {
    "id": "vorBD6fQ9_Z9"
   },
   "outputs": [],
   "source": [
    "class ResNet(nn.Module):\n",
    "    def __init__(self, block, in_planes, num_layers, num_blocks, kernel, skip_kernel, num_classes=10, bias=True):\n",
    "        if not isinstance(num_blocks, list):\n",
    "            raise Exception(\"num_blocks parameter should be a list of integer values\")\n",
    "        if num_layers != len(num_blocks):\n",
    "            raise Exception(\"Residual layers should be equal to the length of num_blocks list\")\n",
    "        super(ResNet, self).__init__()\n",
    "        self.kernel = kernel\n",
    "        self.skip_kernel = skip_kernel\n",
    "        self.in_planes = in_planes\n",
    "        self.conv1 = nn.Conv2d(3, self.in_planes, kernel_size=kernel[0],\n",
    "                               stride=1, padding=kernel[1], bias=bias)\n",
    "        self.bn1 = nn.BatchNorm2d(self.in_planes)\n",
    "        self.num_layers = num_layers\n",
    "        self.layer1 = self._make_layer(block, self.in_planes, num_blocks[0], stride=1, bias=bias)\n",
    "        for i in range(2, num_layers+1):\n",
    "            setattr(self, \"layer\"+str(i), self._make_layer(block, 2*self.in_planes, num_blocks[i-1], stride=2, bias=bias))\n",
    "        finalshape = list(getattr(self, \"layer\"+str(num_layers))[-1].modules())[-2].num_features\n",
    "        self.multiplier = 4 if num_layers == 2 else (2 if num_layers == 3 else 1)\n",
    "        self.linear = nn.Linear(finalshape, num_classes)\n",
    "        self.path = \"./project1_model.pt\"\n",
    "\n",
    "    def _make_layer(self, block, planes, num_blocks, stride, bias=True):\n",
    "        strides = [stride] + [1]*(num_blocks-1)\n",
    "        custom_layers = []\n",
    "        for stride in strides:\n",
    "            custom_layers.append(block(self.in_planes, planes,self.kernel,self.skip_kernel, stride, bias))\n",
    "            self.in_planes = planes\n",
    "        return nn.Sequential(*custom_layers)\n",
    "\n",
    "    def forward(self, x):\n",
    "        out = F.relu(self.bn1(self.conv1(x)))\n",
    "        for i in range(1, self.num_layers+1):\n",
    "            out = eval(\"self.layer\" + str(i) + \"(out)\")\n",
    "        out = F.avg_pool2d(out, 4*self.multiplier)\n",
    "        out = out.view(out.size(0), -1)\n",
    "        out = self.linear(out)\n",
    "        return out\n",
    "\n",
    "    def saveToDisk(self):\n",
    "        torch.save(self.state_dict(), self.path)\n",
    "\n",
    "    def loadFromDisk(self):\n",
    "        self.load_state_dict(torch.load(self.path))\n",
    "\n",
    "def final_model():\n",
    "    return ResNet(BasicBlock, 32, 4, [4, 4, 4, 3],kernel=(3,1),skip_kernel=(1,0), num_classes=10, bias=True)\n",
    "    #return ResNet(BasicBlock, 140, 2, [3, 3],kernel=(3,1),skip_kernel=(1,0), num_classes=10, bias=True)\n",
    "    #return ResNet(BasicBlock, 140, 5, [2, 2, 2, 2, 2],kernel=(3,1),skip_kernel=(1,0), num_classes=10, bias=True)\n"
   ]
  },
  {
   "cell_type": "markdown",
   "metadata": {
    "id": "jPvkoV4OBMcn"
   },
   "source": [
    "## Data Training"
   ]
  },
  {
   "cell_type": "code",
   "execution_count": 10,
   "metadata": {
    "colab": {
     "base_uri": "https://localhost:8080/"
    },
    "id": "ANO-1Uffbr1L",
    "outputId": "a09f9916-f282-44e3-c7a3-24f22f238392"
   },
   "outputs": [
    {
     "name": "stdout",
     "output_type": "stream",
     "text": [
      "cuda\n"
     ]
    }
   ],
   "source": [
    "device = torch.device(\"cuda\" if torch.cuda.is_available() else \"cpu\")\n",
    "print(device)"
   ]
  },
  {
   "cell_type": "code",
   "execution_count": 11,
   "metadata": {
    "colab": {
     "base_uri": "https://localhost:8080/"
    },
    "id": "SYLqFQO7bvFc",
    "outputId": "388235df-52de-4600-dae9-d50875f74bfa"
   },
   "outputs": [
    {
     "name": "stdout",
     "output_type": "stream",
     "text": [
      "----------------------------------------------------------------\n",
      "        Layer (type)               Output Shape         Param #\n",
      "================================================================\n",
      "            Conv2d-1           [-1, 32, 32, 32]             896\n",
      "       BatchNorm2d-2           [-1, 32, 32, 32]              64\n",
      "            Conv2d-3           [-1, 32, 32, 32]           9,248\n",
      "       BatchNorm2d-4           [-1, 32, 32, 32]              64\n",
      "            Conv2d-5           [-1, 32, 32, 32]           9,248\n",
      "       BatchNorm2d-6           [-1, 32, 32, 32]              64\n",
      "        BasicBlock-7           [-1, 32, 32, 32]               0\n",
      "            Conv2d-8           [-1, 32, 32, 32]           9,248\n",
      "       BatchNorm2d-9           [-1, 32, 32, 32]              64\n",
      "           Conv2d-10           [-1, 32, 32, 32]           9,248\n",
      "      BatchNorm2d-11           [-1, 32, 32, 32]              64\n",
      "       BasicBlock-12           [-1, 32, 32, 32]               0\n",
      "           Conv2d-13           [-1, 32, 32, 32]           9,248\n",
      "      BatchNorm2d-14           [-1, 32, 32, 32]              64\n",
      "           Conv2d-15           [-1, 32, 32, 32]           9,248\n",
      "      BatchNorm2d-16           [-1, 32, 32, 32]              64\n",
      "       BasicBlock-17           [-1, 32, 32, 32]               0\n",
      "           Conv2d-18           [-1, 32, 32, 32]           9,248\n",
      "      BatchNorm2d-19           [-1, 32, 32, 32]              64\n",
      "           Conv2d-20           [-1, 32, 32, 32]           9,248\n",
      "      BatchNorm2d-21           [-1, 32, 32, 32]              64\n",
      "       BasicBlock-22           [-1, 32, 32, 32]               0\n",
      "           Conv2d-23           [-1, 64, 16, 16]          18,496\n",
      "      BatchNorm2d-24           [-1, 64, 16, 16]             128\n",
      "           Conv2d-25           [-1, 64, 16, 16]          36,928\n",
      "      BatchNorm2d-26           [-1, 64, 16, 16]             128\n",
      "           Conv2d-27           [-1, 64, 16, 16]           2,112\n",
      "      BatchNorm2d-28           [-1, 64, 16, 16]             128\n",
      "       BasicBlock-29           [-1, 64, 16, 16]               0\n",
      "           Conv2d-30           [-1, 64, 16, 16]          36,928\n",
      "      BatchNorm2d-31           [-1, 64, 16, 16]             128\n",
      "           Conv2d-32           [-1, 64, 16, 16]          36,928\n",
      "      BatchNorm2d-33           [-1, 64, 16, 16]             128\n",
      "       BasicBlock-34           [-1, 64, 16, 16]               0\n",
      "           Conv2d-35           [-1, 64, 16, 16]          36,928\n",
      "      BatchNorm2d-36           [-1, 64, 16, 16]             128\n",
      "           Conv2d-37           [-1, 64, 16, 16]          36,928\n",
      "      BatchNorm2d-38           [-1, 64, 16, 16]             128\n",
      "       BasicBlock-39           [-1, 64, 16, 16]               0\n",
      "           Conv2d-40           [-1, 64, 16, 16]          36,928\n",
      "      BatchNorm2d-41           [-1, 64, 16, 16]             128\n",
      "           Conv2d-42           [-1, 64, 16, 16]          36,928\n",
      "      BatchNorm2d-43           [-1, 64, 16, 16]             128\n",
      "       BasicBlock-44           [-1, 64, 16, 16]               0\n",
      "           Conv2d-45            [-1, 128, 8, 8]          73,856\n",
      "      BatchNorm2d-46            [-1, 128, 8, 8]             256\n",
      "           Conv2d-47            [-1, 128, 8, 8]         147,584\n",
      "      BatchNorm2d-48            [-1, 128, 8, 8]             256\n",
      "           Conv2d-49            [-1, 128, 8, 8]           8,320\n",
      "      BatchNorm2d-50            [-1, 128, 8, 8]             256\n",
      "       BasicBlock-51            [-1, 128, 8, 8]               0\n",
      "           Conv2d-52            [-1, 128, 8, 8]         147,584\n",
      "      BatchNorm2d-53            [-1, 128, 8, 8]             256\n",
      "           Conv2d-54            [-1, 128, 8, 8]         147,584\n",
      "      BatchNorm2d-55            [-1, 128, 8, 8]             256\n",
      "       BasicBlock-56            [-1, 128, 8, 8]               0\n",
      "           Conv2d-57            [-1, 128, 8, 8]         147,584\n",
      "      BatchNorm2d-58            [-1, 128, 8, 8]             256\n",
      "           Conv2d-59            [-1, 128, 8, 8]         147,584\n",
      "      BatchNorm2d-60            [-1, 128, 8, 8]             256\n",
      "       BasicBlock-61            [-1, 128, 8, 8]               0\n",
      "           Conv2d-62            [-1, 128, 8, 8]         147,584\n",
      "      BatchNorm2d-63            [-1, 128, 8, 8]             256\n",
      "           Conv2d-64            [-1, 128, 8, 8]         147,584\n",
      "      BatchNorm2d-65            [-1, 128, 8, 8]             256\n",
      "       BasicBlock-66            [-1, 128, 8, 8]               0\n",
      "           Conv2d-67            [-1, 256, 4, 4]         295,168\n",
      "      BatchNorm2d-68            [-1, 256, 4, 4]             512\n",
      "           Conv2d-69            [-1, 256, 4, 4]         590,080\n",
      "      BatchNorm2d-70            [-1, 256, 4, 4]             512\n",
      "           Conv2d-71            [-1, 256, 4, 4]          33,024\n",
      "      BatchNorm2d-72            [-1, 256, 4, 4]             512\n",
      "       BasicBlock-73            [-1, 256, 4, 4]               0\n",
      "           Conv2d-74            [-1, 256, 4, 4]         590,080\n",
      "      BatchNorm2d-75            [-1, 256, 4, 4]             512\n",
      "           Conv2d-76            [-1, 256, 4, 4]         590,080\n",
      "      BatchNorm2d-77            [-1, 256, 4, 4]             512\n",
      "       BasicBlock-78            [-1, 256, 4, 4]               0\n",
      "           Conv2d-79            [-1, 256, 4, 4]         590,080\n",
      "      BatchNorm2d-80            [-1, 256, 4, 4]             512\n",
      "           Conv2d-81            [-1, 256, 4, 4]         590,080\n",
      "      BatchNorm2d-82            [-1, 256, 4, 4]             512\n",
      "       BasicBlock-83            [-1, 256, 4, 4]               0\n",
      "           Linear-84                   [-1, 10]           2,570\n",
      "================================================================\n",
      "Total params: 4,758,026\n",
      "Trainable params: 4,758,026\n",
      "Non-trainable params: 0\n",
      "----------------------------------------------------------------\n",
      "Input size (MB): 0.01\n",
      "Forward/backward pass size (MB): 10.16\n",
      "Params size (MB): 18.15\n",
      "Estimated Total Size (MB): 28.32\n",
      "----------------------------------------------------------------\n",
      "None\n"
     ]
    }
   ],
   "source": [
    "model = final_model()\n",
    "model = model.to(device)\n",
    "print(summary(model, input_size=(3, 32, 32)))"
   ]
  },
  {
   "cell_type": "code",
   "execution_count": 12,
   "metadata": {
    "id": "0fbQKWHwbwpY"
   },
   "outputs": [],
   "source": [
    "EPOCHS=100\n",
    "globalBestAccuracy = 0.0\n",
    "trainingLoss = []\n",
    "testingLoss = []\n",
    "trainingAccuracy = []\n",
    "testingAccuracy = []"
   ]
  },
  {
   "cell_type": "code",
   "execution_count": 13,
   "metadata": {
    "colab": {
     "base_uri": "https://localhost:8080/"
    },
    "id": "QMWf5BRUbywK",
    "outputId": "c6d43336-5e6e-4246-8b55-68cb4db31ab8"
   },
   "outputs": [
    {
     "name": "stdout",
     "output_type": "stream",
     "text": [
      "ResNet(\n",
      "  (conv1): Conv2d(3, 32, kernel_size=(3, 3), stride=(1, 1), padding=(1, 1))\n",
      "  (bn1): BatchNorm2d(32, eps=1e-05, momentum=0.1, affine=True, track_running_stats=True)\n",
      "  (layer1): Sequential(\n",
      "    (0): BasicBlock(\n",
      "      (conv1): Conv2d(32, 32, kernel_size=(3, 3), stride=(1, 1), padding=(1, 1))\n",
      "      (bn1): BatchNorm2d(32, eps=1e-05, momentum=0.1, affine=True, track_running_stats=True)\n",
      "      (conv2): Conv2d(32, 32, kernel_size=(3, 3), stride=(1, 1), padding=(1, 1))\n",
      "      (bn2): BatchNorm2d(32, eps=1e-05, momentum=0.1, affine=True, track_running_stats=True)\n",
      "      (shortcut): Sequential()\n",
      "    )\n",
      "    (1): BasicBlock(\n",
      "      (conv1): Conv2d(32, 32, kernel_size=(3, 3), stride=(1, 1), padding=(1, 1))\n",
      "      (bn1): BatchNorm2d(32, eps=1e-05, momentum=0.1, affine=True, track_running_stats=True)\n",
      "      (conv2): Conv2d(32, 32, kernel_size=(3, 3), stride=(1, 1), padding=(1, 1))\n",
      "      (bn2): BatchNorm2d(32, eps=1e-05, momentum=0.1, affine=True, track_running_stats=True)\n",
      "      (shortcut): Sequential()\n",
      "    )\n",
      "    (2): BasicBlock(\n",
      "      (conv1): Conv2d(32, 32, kernel_size=(3, 3), stride=(1, 1), padding=(1, 1))\n",
      "      (bn1): BatchNorm2d(32, eps=1e-05, momentum=0.1, affine=True, track_running_stats=True)\n",
      "      (conv2): Conv2d(32, 32, kernel_size=(3, 3), stride=(1, 1), padding=(1, 1))\n",
      "      (bn2): BatchNorm2d(32, eps=1e-05, momentum=0.1, affine=True, track_running_stats=True)\n",
      "      (shortcut): Sequential()\n",
      "    )\n",
      "    (3): BasicBlock(\n",
      "      (conv1): Conv2d(32, 32, kernel_size=(3, 3), stride=(1, 1), padding=(1, 1))\n",
      "      (bn1): BatchNorm2d(32, eps=1e-05, momentum=0.1, affine=True, track_running_stats=True)\n",
      "      (conv2): Conv2d(32, 32, kernel_size=(3, 3), stride=(1, 1), padding=(1, 1))\n",
      "      (bn2): BatchNorm2d(32, eps=1e-05, momentum=0.1, affine=True, track_running_stats=True)\n",
      "      (shortcut): Sequential()\n",
      "    )\n",
      "  )\n",
      "  (layer2): Sequential(\n",
      "    (0): BasicBlock(\n",
      "      (conv1): Conv2d(32, 64, kernel_size=(3, 3), stride=(2, 2), padding=(1, 1))\n",
      "      (bn1): BatchNorm2d(64, eps=1e-05, momentum=0.1, affine=True, track_running_stats=True)\n",
      "      (conv2): Conv2d(64, 64, kernel_size=(3, 3), stride=(1, 1), padding=(1, 1))\n",
      "      (bn2): BatchNorm2d(64, eps=1e-05, momentum=0.1, affine=True, track_running_stats=True)\n",
      "      (shortcut): Sequential(\n",
      "        (0): Conv2d(32, 64, kernel_size=(1, 1), stride=(2, 2))\n",
      "        (1): BatchNorm2d(64, eps=1e-05, momentum=0.1, affine=True, track_running_stats=True)\n",
      "      )\n",
      "    )\n",
      "    (1): BasicBlock(\n",
      "      (conv1): Conv2d(64, 64, kernel_size=(3, 3), stride=(1, 1), padding=(1, 1))\n",
      "      (bn1): BatchNorm2d(64, eps=1e-05, momentum=0.1, affine=True, track_running_stats=True)\n",
      "      (conv2): Conv2d(64, 64, kernel_size=(3, 3), stride=(1, 1), padding=(1, 1))\n",
      "      (bn2): BatchNorm2d(64, eps=1e-05, momentum=0.1, affine=True, track_running_stats=True)\n",
      "      (shortcut): Sequential()\n",
      "    )\n",
      "    (2): BasicBlock(\n",
      "      (conv1): Conv2d(64, 64, kernel_size=(3, 3), stride=(1, 1), padding=(1, 1))\n",
      "      (bn1): BatchNorm2d(64, eps=1e-05, momentum=0.1, affine=True, track_running_stats=True)\n",
      "      (conv2): Conv2d(64, 64, kernel_size=(3, 3), stride=(1, 1), padding=(1, 1))\n",
      "      (bn2): BatchNorm2d(64, eps=1e-05, momentum=0.1, affine=True, track_running_stats=True)\n",
      "      (shortcut): Sequential()\n",
      "    )\n",
      "    (3): BasicBlock(\n",
      "      (conv1): Conv2d(64, 64, kernel_size=(3, 3), stride=(1, 1), padding=(1, 1))\n",
      "      (bn1): BatchNorm2d(64, eps=1e-05, momentum=0.1, affine=True, track_running_stats=True)\n",
      "      (conv2): Conv2d(64, 64, kernel_size=(3, 3), stride=(1, 1), padding=(1, 1))\n",
      "      (bn2): BatchNorm2d(64, eps=1e-05, momentum=0.1, affine=True, track_running_stats=True)\n",
      "      (shortcut): Sequential()\n",
      "    )\n",
      "  )\n",
      "  (layer3): Sequential(\n",
      "    (0): BasicBlock(\n",
      "      (conv1): Conv2d(64, 128, kernel_size=(3, 3), stride=(2, 2), padding=(1, 1))\n",
      "      (bn1): BatchNorm2d(128, eps=1e-05, momentum=0.1, affine=True, track_running_stats=True)\n",
      "      (conv2): Conv2d(128, 128, kernel_size=(3, 3), stride=(1, 1), padding=(1, 1))\n",
      "      (bn2): BatchNorm2d(128, eps=1e-05, momentum=0.1, affine=True, track_running_stats=True)\n",
      "      (shortcut): Sequential(\n",
      "        (0): Conv2d(64, 128, kernel_size=(1, 1), stride=(2, 2))\n",
      "        (1): BatchNorm2d(128, eps=1e-05, momentum=0.1, affine=True, track_running_stats=True)\n",
      "      )\n",
      "    )\n",
      "    (1): BasicBlock(\n",
      "      (conv1): Conv2d(128, 128, kernel_size=(3, 3), stride=(1, 1), padding=(1, 1))\n",
      "      (bn1): BatchNorm2d(128, eps=1e-05, momentum=0.1, affine=True, track_running_stats=True)\n",
      "      (conv2): Conv2d(128, 128, kernel_size=(3, 3), stride=(1, 1), padding=(1, 1))\n",
      "      (bn2): BatchNorm2d(128, eps=1e-05, momentum=0.1, affine=True, track_running_stats=True)\n",
      "      (shortcut): Sequential()\n",
      "    )\n",
      "    (2): BasicBlock(\n",
      "      (conv1): Conv2d(128, 128, kernel_size=(3, 3), stride=(1, 1), padding=(1, 1))\n",
      "      (bn1): BatchNorm2d(128, eps=1e-05, momentum=0.1, affine=True, track_running_stats=True)\n",
      "      (conv2): Conv2d(128, 128, kernel_size=(3, 3), stride=(1, 1), padding=(1, 1))\n",
      "      (bn2): BatchNorm2d(128, eps=1e-05, momentum=0.1, affine=True, track_running_stats=True)\n",
      "      (shortcut): Sequential()\n",
      "    )\n",
      "    (3): BasicBlock(\n",
      "      (conv1): Conv2d(128, 128, kernel_size=(3, 3), stride=(1, 1), padding=(1, 1))\n",
      "      (bn1): BatchNorm2d(128, eps=1e-05, momentum=0.1, affine=True, track_running_stats=True)\n",
      "      (conv2): Conv2d(128, 128, kernel_size=(3, 3), stride=(1, 1), padding=(1, 1))\n",
      "      (bn2): BatchNorm2d(128, eps=1e-05, momentum=0.1, affine=True, track_running_stats=True)\n",
      "      (shortcut): Sequential()\n",
      "    )\n",
      "  )\n",
      "  (layer4): Sequential(\n",
      "    (0): BasicBlock(\n",
      "      (conv1): Conv2d(128, 256, kernel_size=(3, 3), stride=(2, 2), padding=(1, 1))\n",
      "      (bn1): BatchNorm2d(256, eps=1e-05, momentum=0.1, affine=True, track_running_stats=True)\n",
      "      (conv2): Conv2d(256, 256, kernel_size=(3, 3), stride=(1, 1), padding=(1, 1))\n",
      "      (bn2): BatchNorm2d(256, eps=1e-05, momentum=0.1, affine=True, track_running_stats=True)\n",
      "      (shortcut): Sequential(\n",
      "        (0): Conv2d(128, 256, kernel_size=(1, 1), stride=(2, 2))\n",
      "        (1): BatchNorm2d(256, eps=1e-05, momentum=0.1, affine=True, track_running_stats=True)\n",
      "      )\n",
      "    )\n",
      "    (1): BasicBlock(\n",
      "      (conv1): Conv2d(256, 256, kernel_size=(3, 3), stride=(1, 1), padding=(1, 1))\n",
      "      (bn1): BatchNorm2d(256, eps=1e-05, momentum=0.1, affine=True, track_running_stats=True)\n",
      "      (conv2): Conv2d(256, 256, kernel_size=(3, 3), stride=(1, 1), padding=(1, 1))\n",
      "      (bn2): BatchNorm2d(256, eps=1e-05, momentum=0.1, affine=True, track_running_stats=True)\n",
      "      (shortcut): Sequential()\n",
      "    )\n",
      "    (2): BasicBlock(\n",
      "      (conv1): Conv2d(256, 256, kernel_size=(3, 3), stride=(1, 1), padding=(1, 1))\n",
      "      (bn1): BatchNorm2d(256, eps=1e-05, momentum=0.1, affine=True, track_running_stats=True)\n",
      "      (conv2): Conv2d(256, 256, kernel_size=(3, 3), stride=(1, 1), padding=(1, 1))\n",
      "      (bn2): BatchNorm2d(256, eps=1e-05, momentum=0.1, affine=True, track_running_stats=True)\n",
      "      (shortcut): Sequential()\n",
      "    )\n",
      "  )\n",
      "  (linear): Linear(in_features=256, out_features=10, bias=True)\n",
      ")\n",
      "Total Trainable Parameters : 4758026\n"
     ]
    }
   ],
   "source": [
    "lossFunction = torch.nn.CrossEntropyLoss(reduction='sum')\n",
    "learningRate = 0.1\n",
    "weightDecay = 0.0001\n",
    "#optimizer = torch.optim.Adam(model.parameters(), lr=learningRate, weight_decay=weightDecay)\n",
    "optimizer = torch.optim.Adadelta(model.parameters(), lr=learningRate, weight_decay=weightDecay)\n",
    "#optimizer = torch.optim.SGD(model.parameters(), lr=learningRate, weight_decay=weightDecay)\n",
    "scheduler = torch.optim.lr_scheduler.CosineAnnealingLR(optimizer, EPOCHS, eta_min=learningRate/10.0)\n",
    "print(model.eval())\n",
    "trainable_parameters = sum(p.numel() for p in model.parameters() if p.requires_grad)\n",
    "print(\"Total Trainable Parameters : %s\"%(trainable_parameters))\n",
    "if trainable_parameters > 5*(10**6):\n",
    "    raise Exception(\"Model not under budget!\")"
   ]
  },
  {
   "cell_type": "code",
   "execution_count": 15,
   "metadata": {
    "colab": {
     "base_uri": "https://localhost:8080/"
    },
    "id": "mJXcwXbwdQeB",
    "outputId": "faaa4f89-d729-4476-88f5-371373798df5"
   },
   "outputs": [
    {
     "name": "stderr",
     "output_type": "stream",
     "text": [
      "  1%|          | 1/100 [01:04<1:46:08, 64.33s/it]"
     ]
    },
    {
     "name": "stdout",
     "output_type": "stream",
     "text": [
      "Training Loss : 0.30802924083073935, Testing Loss : 0.477387251663208, Training Accuracy : 0.8956, Testing Accuracy : 0.8385\n"
     ]
    },
    {
     "name": "stderr",
     "output_type": "stream",
     "text": [
      "  2%|▏         | 2/100 [02:06<1:43:16, 63.23s/it]"
     ]
    },
    {
     "name": "stdout",
     "output_type": "stream",
     "text": [
      "Training Loss : 0.3179106249650319, Testing Loss : 0.4776337953567505, Training Accuracy : 0.8902222222222222, Testing Accuracy : 0.8459\n"
     ]
    },
    {
     "name": "stderr",
     "output_type": "stream",
     "text": [
      "  3%|▎         | 3/100 [03:10<1:42:42, 63.53s/it]"
     ]
    },
    {
     "name": "stdout",
     "output_type": "stream",
     "text": [
      "Training Loss : 0.31931071105533176, Testing Loss : 0.4807098486423492, Training Accuracy : 0.8905777777777778, Testing Accuracy : 0.8433\n"
     ]
    },
    {
     "name": "stderr",
     "output_type": "stream",
     "text": [
      "  4%|▍         | 4/100 [04:14<1:41:51, 63.66s/it]"
     ]
    },
    {
     "name": "stdout",
     "output_type": "stream",
     "text": [
      "Training Loss : 0.3162786798371209, Testing Loss : 0.4726942503929138, Training Accuracy : 0.8922666666666667, Testing Accuracy : 0.8525\n"
     ]
    },
    {
     "name": "stderr",
     "output_type": "stream",
     "text": [
      "  5%|▌         | 5/100 [05:18<1:41:12, 63.92s/it]"
     ]
    },
    {
     "name": "stdout",
     "output_type": "stream",
     "text": [
      "Training Loss : 0.279147370311949, Testing Loss : 0.4299639977455139, Training Accuracy : 0.9057111111111111, Testing Accuracy : 0.8625\n"
     ]
    },
    {
     "name": "stderr",
     "output_type": "stream",
     "text": [
      "  6%|▌         | 6/100 [06:26<1:41:56, 65.06s/it]"
     ]
    },
    {
     "name": "stdout",
     "output_type": "stream",
     "text": [
      "Training Loss : 0.253953641600079, Testing Loss : 0.4438750473976135, Training Accuracy : 0.9126444444444445, Testing Accuracy : 0.8666\n"
     ]
    },
    {
     "name": "stderr",
     "output_type": "stream",
     "text": [
      "  7%|▋         | 7/100 [07:30<1:40:21, 64.74s/it]"
     ]
    },
    {
     "name": "stdout",
     "output_type": "stream",
     "text": [
      "Training Loss : 0.2338307472758823, Testing Loss : 0.4258920774459839, Training Accuracy : 0.9198222222222222, Testing Accuracy : 0.8758\n"
     ]
    },
    {
     "name": "stderr",
     "output_type": "stream",
     "text": [
      "  8%|▊         | 8/100 [08:33<1:38:25, 64.19s/it]"
     ]
    },
    {
     "name": "stdout",
     "output_type": "stream",
     "text": [
      "Training Loss : 0.20168730647563934, Testing Loss : 0.39890541315078737, Training Accuracy : 0.9305333333333333, Testing Accuracy : 0.8786\n"
     ]
    },
    {
     "name": "stderr",
     "output_type": "stream",
     "text": [
      "  9%|▉         | 9/100 [09:38<1:38:02, 64.64s/it]"
     ]
    },
    {
     "name": "stdout",
     "output_type": "stream",
     "text": [
      "Training Loss : 0.16788747728632555, Testing Loss : 0.37108307197093965, Training Accuracy : 0.9418888888888889, Testing Accuracy : 0.8903\n"
     ]
    },
    {
     "name": "stderr",
     "output_type": "stream",
     "text": [
      " 10%|█         | 10/100 [10:42<1:36:40, 64.45s/it]"
     ]
    },
    {
     "name": "stdout",
     "output_type": "stream",
     "text": [
      "Training Loss : 0.1392789579756972, Testing Loss : 0.3675538482427597, Training Accuracy : 0.95, Testing Accuracy : 0.8981\n"
     ]
    },
    {
     "name": "stderr",
     "output_type": "stream",
     "text": [
      " 11%|█         | 11/100 [11:47<1:35:39, 64.49s/it]"
     ]
    },
    {
     "name": "stdout",
     "output_type": "stream",
     "text": [
      "Training Loss : 0.12166376663976246, Testing Loss : 0.3557797122001648, Training Accuracy : 0.9560222222222222, Testing Accuracy : 0.8998\n"
     ]
    },
    {
     "name": "stderr",
     "output_type": "stream",
     "text": [
      " 12%|█▏        | 12/100 [12:54<1:35:34, 65.17s/it]"
     ]
    },
    {
     "name": "stdout",
     "output_type": "stream",
     "text": [
      "Training Loss : 0.1096177782317313, Testing Loss : 0.3401916271209717, Training Accuracy : 0.9613333333333334, Testing Accuracy : 0.8993\n"
     ]
    },
    {
     "name": "stderr",
     "output_type": "stream",
     "text": [
      " 13%|█▎        | 13/100 [13:59<1:34:25, 65.12s/it]"
     ]
    },
    {
     "name": "stdout",
     "output_type": "stream",
     "text": [
      "Training Loss : 0.10517384079297383, Testing Loss : 0.3537567313194275, Training Accuracy : 0.9628444444444444, Testing Accuracy : 0.9006\n"
     ]
    },
    {
     "name": "stderr",
     "output_type": "stream",
     "text": [
      " 14%|█▍        | 14/100 [15:01<1:32:15, 64.36s/it]"
     ]
    },
    {
     "name": "stdout",
     "output_type": "stream",
     "text": [
      "Training Loss : 0.10624999115334617, Testing Loss : 0.3717789978981018, Training Accuracy : 0.9625111111111111, Testing Accuracy : 0.8981\n"
     ]
    },
    {
     "name": "stderr",
     "output_type": "stream",
     "text": [
      " 15%|█▌        | 15/100 [16:08<1:31:58, 64.93s/it]"
     ]
    },
    {
     "name": "stdout",
     "output_type": "stream",
     "text": [
      "Training Loss : 0.1176468090971311, Testing Loss : 0.4064290611743927, Training Accuracy : 0.9581333333333333, Testing Accuracy : 0.8908\n"
     ]
    },
    {
     "name": "stderr",
     "output_type": "stream",
     "text": [
      " 16%|█▌        | 16/100 [17:13<1:31:11, 65.13s/it]"
     ]
    },
    {
     "name": "stdout",
     "output_type": "stream",
     "text": [
      "Training Loss : 0.14018222481807072, Testing Loss : 0.40066951122283934, Training Accuracy : 0.9502222222222222, Testing Accuracy : 0.8876\n"
     ]
    },
    {
     "name": "stderr",
     "output_type": "stream",
     "text": [
      " 17%|█▋        | 17/100 [18:19<1:30:31, 65.44s/it]"
     ]
    },
    {
     "name": "stdout",
     "output_type": "stream",
     "text": [
      "Training Loss : 0.1599532562441296, Testing Loss : 0.44299999771118165, Training Accuracy : 0.9445333333333333, Testing Accuracy : 0.8742\n"
     ]
    },
    {
     "name": "stderr",
     "output_type": "stream",
     "text": [
      " 18%|█▊        | 18/100 [19:22<1:28:18, 64.62s/it]"
     ]
    },
    {
     "name": "stdout",
     "output_type": "stream",
     "text": [
      "Training Loss : 0.1895470742675993, Testing Loss : 0.4326962523460388, Training Accuracy : 0.9350222222222222, Testing Accuracy : 0.874\n"
     ]
    },
    {
     "name": "stderr",
     "output_type": "stream",
     "text": [
      " 19%|█▉        | 19/100 [20:28<1:27:36, 64.90s/it]"
     ]
    },
    {
     "name": "stdout",
     "output_type": "stream",
     "text": [
      "Training Loss : 0.21938775324291654, Testing Loss : 0.4487061936855316, Training Accuracy : 0.9232888888888889, Testing Accuracy : 0.8621\n"
     ]
    },
    {
     "name": "stderr",
     "output_type": "stream",
     "text": [
      " 20%|██        | 20/100 [21:33<1:26:48, 65.11s/it]"
     ]
    },
    {
     "name": "stdout",
     "output_type": "stream",
     "text": [
      "Training Loss : 0.2380858116467794, Testing Loss : 0.49774223837852477, Training Accuracy : 0.9169333333333334, Testing Accuracy : 0.8545\n"
     ]
    },
    {
     "name": "stderr",
     "output_type": "stream",
     "text": [
      " 21%|██        | 21/100 [22:37<1:25:14, 64.75s/it]"
     ]
    },
    {
     "name": "stdout",
     "output_type": "stream",
     "text": [
      "Training Loss : 0.25173399359914994, Testing Loss : 0.46650908613204956, Training Accuracy : 0.9138222222222222, Testing Accuracy : 0.8509\n"
     ]
    },
    {
     "name": "stderr",
     "output_type": "stream",
     "text": [
      " 22%|██▏       | 22/100 [23:42<1:24:07, 64.71s/it]"
     ]
    },
    {
     "name": "stdout",
     "output_type": "stream",
     "text": [
      "Training Loss : 0.2616828599717882, Testing Loss : 0.46803683910369875, Training Accuracy : 0.9124, Testing Accuracy : 0.8499\n"
     ]
    },
    {
     "name": "stderr",
     "output_type": "stream",
     "text": [
      " 23%|██▎       | 23/100 [24:46<1:22:55, 64.62s/it]"
     ]
    },
    {
     "name": "stdout",
     "output_type": "stream",
     "text": [
      "Training Loss : 0.2538867854807112, Testing Loss : 0.4403317153930664, Training Accuracy : 0.9120888888888888, Testing Accuracy : 0.8637\n"
     ]
    },
    {
     "name": "stderr",
     "output_type": "stream",
     "text": [
      " 24%|██▍       | 24/100 [25:51<1:22:06, 64.83s/it]"
     ]
    },
    {
     "name": "stdout",
     "output_type": "stream",
     "text": [
      "Training Loss : 0.24429716452492609, Testing Loss : 0.44855969371795656, Training Accuracy : 0.9153555555555556, Testing Accuracy : 0.8653\n"
     ]
    },
    {
     "name": "stderr",
     "output_type": "stream",
     "text": [
      " 25%|██▌       | 25/100 [26:58<1:21:50, 65.47s/it]"
     ]
    },
    {
     "name": "stdout",
     "output_type": "stream",
     "text": [
      "Training Loss : 0.21845474161571926, Testing Loss : 0.46876460256576535, Training Accuracy : 0.9263333333333333, Testing Accuracy : 0.8655\n"
     ]
    },
    {
     "name": "stderr",
     "output_type": "stream",
     "text": [
      " 26%|██▌       | 26/100 [28:02<1:20:04, 64.93s/it]"
     ]
    },
    {
     "name": "stdout",
     "output_type": "stream",
     "text": [
      "Training Loss : 0.20292969158755408, Testing Loss : 0.42556929202079774, Training Accuracy : 0.9299555555555555, Testing Accuracy : 0.877\n"
     ]
    },
    {
     "name": "stderr",
     "output_type": "stream",
     "text": [
      " 27%|██▋       | 27/100 [29:08<1:19:11, 65.09s/it]"
     ]
    },
    {
     "name": "stdout",
     "output_type": "stream",
     "text": [
      "Training Loss : 0.18366991979016198, Testing Loss : 0.4201779606342316, Training Accuracy : 0.9372, Testing Accuracy : 0.8812\n"
     ]
    },
    {
     "name": "stderr",
     "output_type": "stream",
     "text": [
      " 28%|██▊       | 28/100 [30:13<1:18:03, 65.04s/it]"
     ]
    },
    {
     "name": "stdout",
     "output_type": "stream",
     "text": [
      "Training Loss : 0.13880231265756818, Testing Loss : 0.4108821918964386, Training Accuracy : 0.9517777777777777, Testing Accuracy : 0.8905\n"
     ]
    },
    {
     "name": "stderr",
     "output_type": "stream",
     "text": [
      " 29%|██▉       | 29/100 [31:19<1:17:19, 65.35s/it]"
     ]
    },
    {
     "name": "stdout",
     "output_type": "stream",
     "text": [
      "Training Loss : 0.11986706922915247, Testing Loss : 0.38144084248542787, Training Accuracy : 0.9584888888888888, Testing Accuracy : 0.8946\n"
     ]
    },
    {
     "name": "stderr",
     "output_type": "stream",
     "text": [
      " 30%|███       | 30/100 [32:24<1:16:09, 65.28s/it]"
     ]
    },
    {
     "name": "stdout",
     "output_type": "stream",
     "text": [
      "Training Loss : 0.10190708000262579, Testing Loss : 0.3647236501455307, Training Accuracy : 0.9637333333333333, Testing Accuracy : 0.9027\n"
     ]
    },
    {
     "name": "stderr",
     "output_type": "stream",
     "text": [
      " 31%|███       | 31/100 [33:28<1:14:40, 64.93s/it]"
     ]
    },
    {
     "name": "stdout",
     "output_type": "stream",
     "text": [
      "Training Loss : 0.08060257932874891, Testing Loss : 0.36701639358997346, Training Accuracy : 0.9723111111111111, Testing Accuracy : 0.9033\n"
     ]
    },
    {
     "name": "stderr",
     "output_type": "stream",
     "text": [
      " 32%|███▏      | 32/100 [34:33<1:13:32, 64.89s/it]"
     ]
    },
    {
     "name": "stdout",
     "output_type": "stream",
     "text": [
      "Training Loss : 0.07231199627447253, Testing Loss : 0.368532760488987, Training Accuracy : 0.9744444444444444, Testing Accuracy : 0.9083\n"
     ]
    },
    {
     "name": "stderr",
     "output_type": "stream",
     "text": [
      " 33%|███▎      | 33/100 [35:38<1:12:30, 64.93s/it]"
     ]
    },
    {
     "name": "stdout",
     "output_type": "stream",
     "text": [
      "Training Loss : 0.06959536949230564, Testing Loss : 0.39257675652503965, Training Accuracy : 0.9745111111111111, Testing Accuracy : 0.9032\n"
     ]
    },
    {
     "name": "stderr",
     "output_type": "stream",
     "text": [
      " 34%|███▍      | 34/100 [36:44<1:11:47, 65.26s/it]"
     ]
    },
    {
     "name": "stdout",
     "output_type": "stream",
     "text": [
      "Training Loss : 0.07520706439283159, Testing Loss : 0.3985726088762283, Training Accuracy : 0.9732444444444445, Testing Accuracy : 0.9026\n"
     ]
    },
    {
     "name": "stderr",
     "output_type": "stream",
     "text": [
      " 35%|███▌      | 35/100 [37:48<1:10:23, 64.97s/it]"
     ]
    },
    {
     "name": "stdout",
     "output_type": "stream",
     "text": [
      "Training Loss : 0.0758487872713142, Testing Loss : 0.4060519234418869, Training Accuracy : 0.9734444444444444, Testing Accuracy : 0.906\n"
     ]
    },
    {
     "name": "stderr",
     "output_type": "stream",
     "text": [
      " 36%|███▌      | 36/100 [38:52<1:09:05, 64.77s/it]"
     ]
    },
    {
     "name": "stdout",
     "output_type": "stream",
     "text": [
      "Training Loss : 0.08661688728498088, Testing Loss : 0.43596786028146745, Training Accuracy : 0.9688444444444444, Testing Accuracy : 0.8909\n"
     ]
    },
    {
     "name": "stderr",
     "output_type": "stream",
     "text": [
      " 37%|███▋      | 37/100 [39:55<1:07:27, 64.24s/it]"
     ]
    },
    {
     "name": "stdout",
     "output_type": "stream",
     "text": [
      "Training Loss : 0.10557957892881499, Testing Loss : 0.4259049736022949, Training Accuracy : 0.9636, Testing Accuracy : 0.895\n"
     ]
    },
    {
     "name": "stderr",
     "output_type": "stream",
     "text": [
      " 38%|███▊      | 38/100 [41:02<1:07:07, 64.96s/it]"
     ]
    },
    {
     "name": "stdout",
     "output_type": "stream",
     "text": [
      "Training Loss : 0.12897389960289002, Testing Loss : 0.4458734253883362, Training Accuracy : 0.9546666666666667, Testing Accuracy : 0.8776\n"
     ]
    },
    {
     "name": "stderr",
     "output_type": "stream",
     "text": [
      " 39%|███▉      | 39/100 [42:08<1:06:29, 65.40s/it]"
     ]
    },
    {
     "name": "stdout",
     "output_type": "stream",
     "text": [
      "Training Loss : 0.1644751676890585, Testing Loss : 0.4777926742553711, Training Accuracy : 0.9435111111111111, Testing Accuracy : 0.8722\n"
     ]
    },
    {
     "name": "stderr",
     "output_type": "stream",
     "text": [
      " 40%|████      | 40/100 [43:12<1:04:54, 64.91s/it]"
     ]
    },
    {
     "name": "stdout",
     "output_type": "stream",
     "text": [
      "Training Loss : 0.18118229668802685, Testing Loss : 0.45053023891448973, Training Accuracy : 0.9386888888888889, Testing Accuracy : 0.8699\n"
     ]
    },
    {
     "name": "stderr",
     "output_type": "stream",
     "text": [
      " 41%|████      | 41/100 [44:17<1:03:45, 64.84s/it]"
     ]
    },
    {
     "name": "stdout",
     "output_type": "stream",
     "text": [
      "Training Loss : 0.19432156042522855, Testing Loss : 0.5006952716827393, Training Accuracy : 0.9334666666666667, Testing Accuracy : 0.8546\n"
     ]
    },
    {
     "name": "stderr",
     "output_type": "stream",
     "text": [
      " 42%|████▏     | 42/100 [45:22<1:02:44, 64.91s/it]"
     ]
    },
    {
     "name": "stdout",
     "output_type": "stream",
     "text": [
      "Training Loss : 0.20536602868239084, Testing Loss : 0.4357436371803284, Training Accuracy : 0.9304, Testing Accuracy : 0.8692\n"
     ]
    },
    {
     "name": "stderr",
     "output_type": "stream",
     "text": [
      " 43%|████▎     | 43/100 [46:27<1:01:37, 64.86s/it]"
     ]
    },
    {
     "name": "stdout",
     "output_type": "stream",
     "text": [
      "Training Loss : 0.20992282807562088, Testing Loss : 0.5191634840011596, Training Accuracy : 0.9312888888888889, Testing Accuracy : 0.8566\n"
     ]
    },
    {
     "name": "stderr",
     "output_type": "stream",
     "text": [
      " 44%|████▍     | 44/100 [47:32<1:00:36, 64.94s/it]"
     ]
    },
    {
     "name": "stdout",
     "output_type": "stream",
     "text": [
      "Training Loss : 0.20134334870709314, Testing Loss : 0.4632298785209656, Training Accuracy : 0.9298666666666666, Testing Accuracy : 0.8681\n"
     ]
    },
    {
     "name": "stderr",
     "output_type": "stream",
     "text": [
      " 45%|████▌     | 45/100 [48:37<59:39, 65.08s/it]  "
     ]
    },
    {
     "name": "stdout",
     "output_type": "stream",
     "text": [
      "Training Loss : 0.18115310254626804, Testing Loss : 0.44799278094768524, Training Accuracy : 0.9382, Testing Accuracy : 0.8756\n"
     ]
    },
    {
     "name": "stderr",
     "output_type": "stream",
     "text": [
      " 46%|████▌     | 46/100 [49:43<58:46, 65.30s/it]"
     ]
    },
    {
     "name": "stdout",
     "output_type": "stream",
     "text": [
      "Training Loss : 0.1684563560737504, Testing Loss : 0.46708535299301146, Training Accuracy : 0.9414, Testing Accuracy : 0.8785\n"
     ]
    },
    {
     "name": "stderr",
     "output_type": "stream",
     "text": [
      " 47%|████▋     | 47/100 [50:49<57:58, 65.63s/it]"
     ]
    },
    {
     "name": "stdout",
     "output_type": "stream",
     "text": [
      "Training Loss : 0.13388444585800172, Testing Loss : 0.41626715059280395, Training Accuracy : 0.9530666666666666, Testing Accuracy : 0.8884\n"
     ]
    },
    {
     "name": "stderr",
     "output_type": "stream",
     "text": [
      " 48%|████▊     | 48/100 [51:56<57:14, 66.04s/it]"
     ]
    },
    {
     "name": "stdout",
     "output_type": "stream",
     "text": [
      "Training Loss : 0.11388231379191081, Testing Loss : 0.4210782090187073, Training Accuracy : 0.9597111111111111, Testing Accuracy : 0.8948\n"
     ]
    },
    {
     "name": "stderr",
     "output_type": "stream",
     "text": [
      " 49%|████▉     | 49/100 [53:00<55:35, 65.40s/it]"
     ]
    },
    {
     "name": "stdout",
     "output_type": "stream",
     "text": [
      "Training Loss : 0.09119327941404448, Testing Loss : 0.38853472599983213, Training Accuracy : 0.9685333333333334, Testing Accuracy : 0.9028\n"
     ]
    },
    {
     "name": "stderr",
     "output_type": "stream",
     "text": [
      " 50%|█████     | 50/100 [54:06<54:42, 65.66s/it]"
     ]
    },
    {
     "name": "stdout",
     "output_type": "stream",
     "text": [
      "Training Loss : 0.0723337277793222, Testing Loss : 0.3796856222867966, Training Accuracy : 0.9748888888888889, Testing Accuracy : 0.9092\n"
     ]
    },
    {
     "name": "stderr",
     "output_type": "stream",
     "text": [
      " 51%|█████     | 51/100 [55:12<53:28, 65.48s/it]"
     ]
    },
    {
     "name": "stdout",
     "output_type": "stream",
     "text": [
      "Training Loss : 0.05927035061038203, Testing Loss : 0.37325906300544737, Training Accuracy : 0.9798, Testing Accuracy : 0.9104\n"
     ]
    },
    {
     "name": "stderr",
     "output_type": "stream",
     "text": [
      " 52%|█████▏    | 52/100 [56:17<52:26, 65.55s/it]"
     ]
    },
    {
     "name": "stdout",
     "output_type": "stream",
     "text": [
      "Training Loss : 0.05184414922048648, Testing Loss : 0.38829302954673767, Training Accuracy : 0.9813555555555555, Testing Accuracy : 0.9098\n"
     ]
    },
    {
     "name": "stderr",
     "output_type": "stream",
     "text": [
      " 53%|█████▎    | 53/100 [57:23<51:30, 65.75s/it]"
     ]
    },
    {
     "name": "stdout",
     "output_type": "stream",
     "text": [
      "Training Loss : 0.047156459510160814, Testing Loss : 0.387910334277153, Training Accuracy : 0.9834666666666667, Testing Accuracy : 0.9128\n"
     ]
    },
    {
     "name": "stderr",
     "output_type": "stream",
     "text": [
      " 54%|█████▍    | 54/100 [58:28<50:04, 65.31s/it]"
     ]
    },
    {
     "name": "stdout",
     "output_type": "stream",
     "text": [
      "Training Loss : 0.050095307514071465, Testing Loss : 0.3983723517894745, Training Accuracy : 0.9828666666666667, Testing Accuracy : 0.9085\n"
     ]
    },
    {
     "name": "stderr",
     "output_type": "stream",
     "text": [
      " 55%|█████▌    | 55/100 [59:33<49:02, 65.38s/it]"
     ]
    },
    {
     "name": "stdout",
     "output_type": "stream",
     "text": [
      "Training Loss : 0.051914768050486844, Testing Loss : 0.4174780789852142, Training Accuracy : 0.9819111111111111, Testing Accuracy : 0.9071\n"
     ]
    },
    {
     "name": "stderr",
     "output_type": "stream",
     "text": [
      " 56%|█████▌    | 56/100 [1:00:39<48:04, 65.55s/it]"
     ]
    },
    {
     "name": "stdout",
     "output_type": "stream",
     "text": [
      "Training Loss : 0.06818601087613238, Testing Loss : 0.45803730294704437, Training Accuracy : 0.9757111111111111, Testing Accuracy : 0.8933\n"
     ]
    },
    {
     "name": "stderr",
     "output_type": "stream",
     "text": [
      " 57%|█████▋    | 57/100 [1:01:46<47:10, 65.83s/it]"
     ]
    },
    {
     "name": "stdout",
     "output_type": "stream",
     "text": [
      "Training Loss : 0.09638052930666341, Testing Loss : 0.4506979764461517, Training Accuracy : 0.9661777777777778, Testing Accuracy : 0.8883\n"
     ]
    },
    {
     "name": "stderr",
     "output_type": "stream",
     "text": [
      " 58%|█████▊    | 58/100 [1:02:49<45:26, 64.93s/it]"
     ]
    },
    {
     "name": "stdout",
     "output_type": "stream",
     "text": [
      "Training Loss : 0.12336031624078751, Testing Loss : 0.445448104095459, Training Accuracy : 0.9583111111111111, Testing Accuracy : 0.8845\n"
     ]
    },
    {
     "name": "stderr",
     "output_type": "stream",
     "text": [
      " 59%|█████▉    | 59/100 [1:03:53<44:18, 64.84s/it]"
     ]
    },
    {
     "name": "stdout",
     "output_type": "stream",
     "text": [
      "Training Loss : 0.1394142215953933, Testing Loss : 0.5234919094085694, Training Accuracy : 0.9528222222222222, Testing Accuracy : 0.8702\n"
     ]
    },
    {
     "name": "stderr",
     "output_type": "stream",
     "text": [
      " 60%|██████    | 60/100 [1:04:58<43:18, 64.96s/it]"
     ]
    },
    {
     "name": "stdout",
     "output_type": "stream",
     "text": [
      "Training Loss : 0.1662949436240726, Testing Loss : 0.49048809009790423, Training Accuracy : 0.9438222222222222, Testing Accuracy : 0.8644\n"
     ]
    },
    {
     "name": "stderr",
     "output_type": "stream",
     "text": [
      " 61%|██████    | 61/100 [1:06:05<42:26, 65.30s/it]"
     ]
    },
    {
     "name": "stdout",
     "output_type": "stream",
     "text": [
      "Training Loss : 0.18121686160034603, Testing Loss : 0.48798602657318113, Training Accuracy : 0.9379555555555555, Testing Accuracy : 0.8649\n"
     ]
    },
    {
     "name": "stderr",
     "output_type": "stream",
     "text": [
      " 62%|██████▏   | 62/100 [1:07:12<41:41, 65.82s/it]"
     ]
    },
    {
     "name": "stdout",
     "output_type": "stream",
     "text": [
      "Training Loss : 0.1899357820060518, Testing Loss : 0.5095299540042877, Training Accuracy : 0.9346222222222222, Testing Accuracy : 0.8577\n"
     ]
    },
    {
     "name": "stderr",
     "output_type": "stream",
     "text": [
      " 63%|██████▎   | 63/100 [1:08:19<40:54, 66.34s/it]"
     ]
    },
    {
     "name": "stdout",
     "output_type": "stream",
     "text": [
      "Training Loss : 0.20267403598361544, Testing Loss : 0.491426086139679, Training Accuracy : 0.9318, Testing Accuracy : 0.8646\n"
     ]
    },
    {
     "name": "stderr",
     "output_type": "stream",
     "text": [
      " 64%|██████▍   | 64/100 [1:09:24<39:30, 65.84s/it]"
     ]
    },
    {
     "name": "stdout",
     "output_type": "stream",
     "text": [
      "Training Loss : 0.18528394725587632, Testing Loss : 0.48145553731918334, Training Accuracy : 0.9381333333333334, Testing Accuracy : 0.8725\n"
     ]
    },
    {
     "name": "stderr",
     "output_type": "stream",
     "text": [
      " 65%|██████▌   | 65/100 [1:10:30<38:25, 65.88s/it]"
     ]
    },
    {
     "name": "stdout",
     "output_type": "stream",
     "text": [
      "Training Loss : 0.15291243685351477, Testing Loss : 0.4778099577903748, Training Accuracy : 0.9471555555555555, Testing Accuracy : 0.88\n"
     ]
    },
    {
     "name": "stderr",
     "output_type": "stream",
     "text": [
      " 66%|██████▌   | 66/100 [1:11:34<37:02, 65.36s/it]"
     ]
    },
    {
     "name": "stdout",
     "output_type": "stream",
     "text": [
      "Training Loss : 0.14136182702332736, Testing Loss : 0.43171343524456024, Training Accuracy : 0.9508666666666666, Testing Accuracy : 0.8895\n"
     ]
    },
    {
     "name": "stderr",
     "output_type": "stream",
     "text": [
      " 67%|██████▋   | 67/100 [1:12:37<35:34, 64.68s/it]"
     ]
    },
    {
     "name": "stdout",
     "output_type": "stream",
     "text": [
      "Training Loss : 0.11829305915700065, Testing Loss : 0.41547505328655243, Training Accuracy : 0.9586, Testing Accuracy : 0.8906\n"
     ]
    },
    {
     "name": "stderr",
     "output_type": "stream",
     "text": [
      " 68%|██████▊   | 68/100 [1:13:42<34:34, 64.84s/it]"
     ]
    },
    {
     "name": "stdout",
     "output_type": "stream",
     "text": [
      "Training Loss : 0.09349153319063108, Testing Loss : 0.4335937840938568, Training Accuracy : 0.9672, Testing Accuracy : 0.8969\n"
     ]
    },
    {
     "name": "stderr",
     "output_type": "stream",
     "text": [
      " 69%|██████▉   | 69/100 [1:14:49<33:43, 65.27s/it]"
     ]
    },
    {
     "name": "stdout",
     "output_type": "stream",
     "text": [
      "Training Loss : 0.07512205759382082, Testing Loss : 0.4095975250482559, Training Accuracy : 0.9748666666666667, Testing Accuracy : 0.9035\n"
     ]
    },
    {
     "name": "stderr",
     "output_type": "stream",
     "text": [
      " 70%|███████   | 70/100 [1:15:54<32:38, 65.28s/it]"
     ]
    },
    {
     "name": "stdout",
     "output_type": "stream",
     "text": [
      "Training Loss : 0.057706749507453706, Testing Loss : 0.39505934544801713, Training Accuracy : 0.9799777777777777, Testing Accuracy : 0.9078\n"
     ]
    },
    {
     "name": "stderr",
     "output_type": "stream",
     "text": [
      " 71%|███████   | 71/100 [1:16:58<31:27, 65.10s/it]"
     ]
    },
    {
     "name": "stdout",
     "output_type": "stream",
     "text": [
      "Training Loss : 0.048271756444374724, Testing Loss : 0.3835044059514999, Training Accuracy : 0.9831111111111112, Testing Accuracy : 0.9136\n"
     ]
    },
    {
     "name": "stderr",
     "output_type": "stream",
     "text": [
      " 72%|███████▏  | 72/100 [1:18:05<30:30, 65.38s/it]"
     ]
    },
    {
     "name": "stdout",
     "output_type": "stream",
     "text": [
      "Training Loss : 0.038751220782680645, Testing Loss : 0.3798247157096863, Training Accuracy : 0.9865555555555555, Testing Accuracy : 0.9167\n"
     ]
    },
    {
     "name": "stderr",
     "output_type": "stream",
     "text": [
      " 73%|███████▎  | 73/100 [1:19:08<29:08, 64.78s/it]"
     ]
    },
    {
     "name": "stdout",
     "output_type": "stream",
     "text": [
      "Training Loss : 0.035542633817096554, Testing Loss : 0.4147420392692089, Training Accuracy : 0.9881111111111112, Testing Accuracy : 0.9158\n"
     ]
    },
    {
     "name": "stderr",
     "output_type": "stream",
     "text": [
      " 74%|███████▍  | 74/100 [1:20:14<28:12, 65.09s/it]"
     ]
    },
    {
     "name": "stdout",
     "output_type": "stream",
     "text": [
      "Training Loss : 0.03567491870006132, Testing Loss : 0.41053618216514587, Training Accuracy : 0.9875777777777778, Testing Accuracy : 0.9107\n"
     ]
    },
    {
     "name": "stderr",
     "output_type": "stream",
     "text": [
      " 75%|███████▌  | 75/100 [1:21:18<26:59, 64.77s/it]"
     ]
    },
    {
     "name": "stdout",
     "output_type": "stream",
     "text": [
      "Training Loss : 0.04514701994260152, Testing Loss : 0.4426173579454422, Training Accuracy : 0.984, Testing Accuracy : 0.9082\n"
     ]
    },
    {
     "name": "stderr",
     "output_type": "stream",
     "text": [
      " 76%|███████▌  | 76/100 [1:22:23<25:59, 64.97s/it]"
     ]
    },
    {
     "name": "stdout",
     "output_type": "stream",
     "text": [
      "Training Loss : 0.05134932969436049, Testing Loss : 0.4507202583670616, Training Accuracy : 0.9825333333333334, Testing Accuracy : 0.9033\n"
     ]
    },
    {
     "name": "stderr",
     "output_type": "stream",
     "text": [
      " 77%|███████▋  | 77/100 [1:23:30<25:08, 65.60s/it]"
     ]
    },
    {
     "name": "stdout",
     "output_type": "stream",
     "text": [
      "Training Loss : 0.06942322745579813, Testing Loss : 0.4450418540239334, Training Accuracy : 0.9753555555555555, Testing Accuracy : 0.8952\n"
     ]
    },
    {
     "name": "stderr",
     "output_type": "stream",
     "text": [
      " 78%|███████▊  | 78/100 [1:24:38<24:14, 66.11s/it]"
     ]
    },
    {
     "name": "stdout",
     "output_type": "stream",
     "text": [
      "Training Loss : 0.0902163182756967, Testing Loss : 0.46570840775966643, Training Accuracy : 0.9685333333333334, Testing Accuracy : 0.8918\n"
     ]
    },
    {
     "name": "stderr",
     "output_type": "stream",
     "text": [
      " 79%|███████▉  | 79/100 [1:25:43<23:04, 65.93s/it]"
     ]
    },
    {
     "name": "stdout",
     "output_type": "stream",
     "text": [
      "Training Loss : 0.10644552724593216, Testing Loss : 0.461010413646698, Training Accuracy : 0.9641111111111111, Testing Accuracy : 0.8898\n"
     ]
    },
    {
     "name": "stderr",
     "output_type": "stream",
     "text": [
      " 80%|████████  | 80/100 [1:26:47<21:48, 65.43s/it]"
     ]
    },
    {
     "name": "stdout",
     "output_type": "stream",
     "text": [
      "Training Loss : 0.1376425789674123, Testing Loss : 0.49702584409713746, Training Accuracy : 0.9531777777777778, Testing Accuracy : 0.8705\n"
     ]
    },
    {
     "name": "stderr",
     "output_type": "stream",
     "text": [
      " 81%|████████  | 81/100 [1:27:51<20:34, 64.99s/it]"
     ]
    },
    {
     "name": "stdout",
     "output_type": "stream",
     "text": [
      "Training Loss : 0.15757958010170195, Testing Loss : 0.5350934014320373, Training Accuracy : 0.9473333333333334, Testing Accuracy : 0.8682\n"
     ]
    },
    {
     "name": "stderr",
     "output_type": "stream",
     "text": [
      " 82%|████████▏ | 82/100 [1:28:55<19:25, 64.74s/it]"
     ]
    },
    {
     "name": "stdout",
     "output_type": "stream",
     "text": [
      "Training Loss : 0.17163232397900688, Testing Loss : 0.49167875580787657, Training Accuracy : 0.9420222222222222, Testing Accuracy : 0.8684\n"
     ]
    },
    {
     "name": "stderr",
     "output_type": "stream",
     "text": [
      " 83%|████████▎ | 83/100 [1:30:00<18:17, 64.57s/it]"
     ]
    },
    {
     "name": "stdout",
     "output_type": "stream",
     "text": [
      "Training Loss : 0.17630962487591637, Testing Loss : 0.5060385688781738, Training Accuracy : 0.9394666666666667, Testing Accuracy : 0.8657\n"
     ]
    },
    {
     "name": "stderr",
     "output_type": "stream",
     "text": [
      " 84%|████████▍ | 84/100 [1:31:07<17:26, 65.43s/it]"
     ]
    },
    {
     "name": "stdout",
     "output_type": "stream",
     "text": [
      "Training Loss : 0.16469859525594446, Testing Loss : 0.4779144914150238, Training Accuracy : 0.9423333333333334, Testing Accuracy : 0.875\n"
     ]
    },
    {
     "name": "stderr",
     "output_type": "stream",
     "text": [
      " 85%|████████▌ | 85/100 [1:32:13<16:21, 65.45s/it]"
     ]
    },
    {
     "name": "stdout",
     "output_type": "stream",
     "text": [
      "Training Loss : 0.14637728073265818, Testing Loss : 0.44048335547447204, Training Accuracy : 0.9505777777777777, Testing Accuracy : 0.8892\n"
     ]
    },
    {
     "name": "stderr",
     "output_type": "stream",
     "text": [
      " 86%|████████▌ | 86/100 [1:33:18<15:17, 65.57s/it]"
     ]
    },
    {
     "name": "stdout",
     "output_type": "stream",
     "text": [
      "Training Loss : 0.12347408390574985, Testing Loss : 0.42900635126829145, Training Accuracy : 0.9576, Testing Accuracy : 0.8913\n"
     ]
    },
    {
     "name": "stderr",
     "output_type": "stream",
     "text": [
      " 87%|████████▋ | 87/100 [1:34:22<14:03, 64.85s/it]"
     ]
    },
    {
     "name": "stdout",
     "output_type": "stream",
     "text": [
      "Training Loss : 0.092700531759527, Testing Loss : 0.4719978999137878, Training Accuracy : 0.969, Testing Accuracy : 0.896\n"
     ]
    },
    {
     "name": "stderr",
     "output_type": "stream",
     "text": [
      " 88%|████████▊ | 88/100 [1:35:26<12:58, 64.88s/it]"
     ]
    },
    {
     "name": "stdout",
     "output_type": "stream",
     "text": [
      "Training Loss : 0.08591510656815436, Testing Loss : 0.41103590178489685, Training Accuracy : 0.9698888888888889, Testing Accuracy : 0.8968\n"
     ]
    },
    {
     "name": "stderr",
     "output_type": "stream",
     "text": [
      " 89%|████████▉ | 89/100 [1:36:30<11:47, 64.33s/it]"
     ]
    },
    {
     "name": "stdout",
     "output_type": "stream",
     "text": [
      "Training Loss : 0.0654901306764947, Testing Loss : 0.4303006505131721, Training Accuracy : 0.9766888888888889, Testing Accuracy : 0.9064\n"
     ]
    },
    {
     "name": "stderr",
     "output_type": "stream",
     "text": [
      " 90%|█████████ | 90/100 [1:37:35<10:47, 64.77s/it]"
     ]
    },
    {
     "name": "stdout",
     "output_type": "stream",
     "text": [
      "Training Loss : 0.0456440754207265, Testing Loss : 0.39138329907655717, Training Accuracy : 0.984, Testing Accuracy : 0.9119\n"
     ]
    },
    {
     "name": "stderr",
     "output_type": "stream",
     "text": [
      " 91%|█████████ | 91/100 [1:38:43<09:49, 65.49s/it]"
     ]
    },
    {
     "name": "stdout",
     "output_type": "stream",
     "text": [
      "Training Loss : 0.037899405387706225, Testing Loss : 0.4085947645187378, Training Accuracy : 0.9866222222222222, Testing Accuracy : 0.9147\n"
     ]
    },
    {
     "name": "stderr",
     "output_type": "stream",
     "text": [
      " 92%|█████████▏| 92/100 [1:39:47<08:41, 65.15s/it]"
     ]
    },
    {
     "name": "stdout",
     "output_type": "stream",
     "text": [
      "Training Loss : 0.029172881124748123, Testing Loss : 0.3992983275651932, Training Accuracy : 0.9899777777777777, Testing Accuracy : 0.913\n"
     ]
    },
    {
     "name": "stderr",
     "output_type": "stream",
     "text": [
      " 93%|█████████▎| 93/100 [1:40:53<07:37, 65.34s/it]"
     ]
    },
    {
     "name": "stdout",
     "output_type": "stream",
     "text": [
      "Training Loss : 0.02726518532070849, Testing Loss : 0.4187639379143715, Training Accuracy : 0.9906666666666667, Testing Accuracy : 0.9158\n"
     ]
    },
    {
     "name": "stderr",
     "output_type": "stream",
     "text": [
      " 94%|█████████▍| 94/100 [1:41:58<06:31, 65.26s/it]"
     ]
    },
    {
     "name": "stdout",
     "output_type": "stream",
     "text": [
      "Training Loss : 0.027881306331149405, Testing Loss : 0.45672113081216814, Training Accuracy : 0.99, Testing Accuracy : 0.9101\n"
     ]
    },
    {
     "name": "stderr",
     "output_type": "stream",
     "text": [
      " 95%|█████████▌| 95/100 [1:43:02<05:25, 65.09s/it]"
     ]
    },
    {
     "name": "stdout",
     "output_type": "stream",
     "text": [
      "Training Loss : 0.034890029499565975, Testing Loss : 0.4576746747732163, Training Accuracy : 0.9880888888888889, Testing Accuracy : 0.9094\n"
     ]
    },
    {
     "name": "stderr",
     "output_type": "stream",
     "text": [
      " 96%|█████████▌| 96/100 [1:44:07<04:19, 64.85s/it]"
     ]
    },
    {
     "name": "stdout",
     "output_type": "stream",
     "text": [
      "Training Loss : 0.046852930477095975, Testing Loss : 0.4565309502840042, Training Accuracy : 0.9837111111111111, Testing Accuracy : 0.904\n"
     ]
    },
    {
     "name": "stderr",
     "output_type": "stream",
     "text": [
      " 97%|█████████▋| 97/100 [1:45:10<03:13, 64.41s/it]"
     ]
    },
    {
     "name": "stdout",
     "output_type": "stream",
     "text": [
      "Training Loss : 0.0591968356627557, Testing Loss : 0.5067945246934891, Training Accuracy : 0.9791333333333333, Testing Accuracy : 0.8911\n"
     ]
    },
    {
     "name": "stderr",
     "output_type": "stream",
     "text": [
      " 98%|█████████▊| 98/100 [1:46:16<02:09, 64.72s/it]"
     ]
    },
    {
     "name": "stdout",
     "output_type": "stream",
     "text": [
      "Training Loss : 0.08752742371426689, Testing Loss : 0.5192122580528259, Training Accuracy : 0.9701333333333333, Testing Accuracy : 0.8813\n"
     ]
    },
    {
     "name": "stderr",
     "output_type": "stream",
     "text": [
      " 99%|█████████▉| 99/100 [1:47:19<01:04, 64.38s/it]"
     ]
    },
    {
     "name": "stdout",
     "output_type": "stream",
     "text": [
      "Training Loss : 0.10236447590490182, Testing Loss : 0.5333600285053253, Training Accuracy : 0.9661111111111111, Testing Accuracy : 0.8803\n"
     ]
    },
    {
     "name": "stderr",
     "output_type": "stream",
     "text": [
      "100%|██████████| 100/100 [1:48:24<00:00, 65.05s/it]"
     ]
    },
    {
     "name": "stdout",
     "output_type": "stream",
     "text": [
      "Training Loss : 0.1244256186309788, Testing Loss : 0.47827480478286744, Training Accuracy : 0.9588444444444445, Testing Accuracy : 0.8757\n"
     ]
    },
    {
     "name": "stderr",
     "output_type": "stream",
     "text": [
      "\n"
     ]
    }
   ],
   "source": [
    "for i in tqdm(range(EPOCHS)):\n",
    "    for phase in ['train', 'test']:\n",
    "        if phase == \"train\":\n",
    "            loader = train_iterator\n",
    "            model.train()\n",
    "            optimizer.zero_grad()\n",
    "        else:\n",
    "            loader = test_iterator\n",
    "            model.eval()\n",
    "        runningLoss = 0.0\n",
    "        runningCorrects = 0\n",
    "        for images, labels in loader:\n",
    "            images = images.to(device)\n",
    "            labels = labels.to(device)\n",
    "            output = model(images)\n",
    "            loss = lossFunction(output, labels)\n",
    "            predicted_labels = torch.argmax(output, dim=1)\n",
    "            #runningLoss += loss.item()*images.size(0)\n",
    "            runningLoss += loss.item()\n",
    "            runningCorrects += torch.sum(predicted_labels == labels).float().item()\n",
    "            if phase == \"train\":\n",
    "                loss.backward()\n",
    "                optimizer.step()\n",
    "        epochLoss = runningLoss/len(loader.dataset)\n",
    "        epochAccuracy = runningCorrects/len(loader.dataset)\n",
    "        if phase == \"train\":\n",
    "            scheduler.step()\n",
    "            trainingLoss.append(epochLoss)\n",
    "            trainingAccuracy.append(epochAccuracy)\n",
    "        else:\n",
    "            testingLoss.append(epochLoss)\n",
    "            testingAccuracy.append(epochAccuracy)\n",
    "            if epochAccuracy > globalBestAccuracy:\n",
    "                globalBestAccuracy = epochAccuracy\n",
    "                torch.save(model.state_dict(), 'tut3-model.pt')\n",
    "\n",
    "    print(\"Training Loss : %s, Testing Loss : %s, Training Accuracy : %s, Testing Accuracy : %s\"\\\n",
    "          %(trainingLoss[-1], testingLoss[-1], trainingAccuracy[-1], testingAccuracy[-1]))"
   ]
  },
  {
   "cell_type": "code",
   "execution_count": null,
   "metadata": {
    "id": "oUzgtynbb0NA"
   },
   "outputs": [],
   "source": [
    "print(\"Maximum Testing Accuracy Achieved: %s\"%(max(testingAccuracy)))\n",
    "xmax = np.argmax(testingAccuracy)\n",
    "ymax = max(testingAccuracy)"
   ]
  },
  {
   "cell_type": "code",
   "execution_count": null,
   "metadata": {
    "id": "xJ-qpprAPHBw"
   },
   "outputs": [],
   "source": [
    "f, (ax1, ax2) = plt.subplots(1, 2, figsize=(20, 10))\n",
    "n = len(trainingLoss)\n",
    "ax1.plot(range(n), trainingLoss, '-', linewidth='3', label='Train Error')\n",
    "ax1.plot(range(n), testingLoss, '-', linewidth='3', label='Test Error')\n",
    "ax2.plot(range(n), trainingAccuracy, '-', linewidth='3', label='Train Accuracy')\n",
    "ax2.plot(range(n), testingAccuracy, '-', linewidth='3', label='Test Acuracy')\n",
    "ax2.annotate('max accuracy = %s'%(ymax), xy=(xmax, ymax), xytext=(xmax, ymax+0.15), arrowprops=dict(facecolor='black', shrink=0.05))\n",
    "ax1.grid(True)\n",
    "ax2.grid(True)\n",
    "ax1.legend()\n",
    "ax2.legend()\n",
    "ax1.set_title('Error Plot')\n",
    "ax2.set_title('Accuracy Plot')\n",
    "f.savefig(\"./trainTestCurve.png\")"
   ]
  },
  {
   "cell_type": "code",
   "execution_count": null,
   "metadata": {
    "id": "KZS1ShvQOr_U"
   },
   "outputs": [],
   "source": []
  }
 ],
 "metadata": {
  "accelerator": "GPU",
  "colab": {
   "provenance": []
  },
  "gpuClass": "standard",
  "kernelspec": {
   "display_name": "default:Python",
   "language": "python",
   "name": "conda-env-default-py"
  },
  "language_info": {
   "codemirror_mode": {
    "name": "ipython",
    "version": 3
   },
   "file_extension": ".py",
   "mimetype": "text/x-python",
   "name": "python",
   "nbconvert_exporter": "python",
   "pygments_lexer": "ipython3",
   "version": "3.9.13"
  }
 },
 "nbformat": 4,
 "nbformat_minor": 4
}
